{
 "cells": [
  {
   "cell_type": "code",
   "execution_count": 1,
   "id": "121f5153-4bf4-4eee-a727-ecde9ee36801",
   "metadata": {},
   "outputs": [],
   "source": [
    "import pandas as pd"
   ]
  },
  {
   "cell_type": "code",
   "execution_count": 8,
   "id": "8cc02253-474c-4469-a32d-12369b7a6a56",
   "metadata": {},
   "outputs": [],
   "source": [
    "ev = pd.read_csv('notes_to_label/external_validation.csv')"
   ]
  },
  {
   "cell_type": "code",
   "execution_count": null,
   "id": "1be1641e-06f3-4e61-b2b7-cd4efe8062d3",
   "metadata": {},
   "outputs": [],
   "source": []
  },
  {
   "cell_type": "code",
   "execution_count": 4,
   "id": "eb46adf3-0872-43a4-9c20-6a5a2970785e",
   "metadata": {},
   "outputs": [],
   "source": [
    "result = pd.read_csv('notes_to_label/external_validation_cohort_note_text.csv')"
   ]
  },
  {
   "cell_type": "code",
   "execution_count": 7,
   "id": "70b09de8-2d45-4425-bb49-be6a988ab067",
   "metadata": {},
   "outputs": [
    {
     "data": {
      "text/html": [
       "<div>\n",
       "<style scoped>\n",
       "    .dataframe tbody tr th:only-of-type {\n",
       "        vertical-align: middle;\n",
       "    }\n",
       "\n",
       "    .dataframe tbody tr th {\n",
       "        vertical-align: top;\n",
       "    }\n",
       "\n",
       "    .dataframe thead th {\n",
       "        text-align: right;\n",
       "    }\n",
       "</style>\n",
       "<table border=\"1\" class=\"dataframe\">\n",
       "  <thead>\n",
       "    <tr style=\"text-align: right;\">\n",
       "      <th></th>\n",
       "      <th>PAT_ENC_CSN_ID</th>\n",
       "      <th>ORDER_RESULT_COMPONENT_COMMENTS</th>\n",
       "    </tr>\n",
       "  </thead>\n",
       "  <tbody>\n",
       "    <tr>\n",
       "      <th>0</th>\n",
       "      <td>118591316</td>\n",
       "      <td>Indications: Hematemesis Consent: The benefits...</td>\n",
       "    </tr>\n",
       "    <tr>\n",
       "      <th>1</th>\n",
       "      <td>114633873</td>\n",
       "      <td>Indications: Melena with symptomatic anemia  C...</td>\n",
       "    </tr>\n",
       "    <tr>\n",
       "      <th>2</th>\n",
       "      <td>115596322</td>\n",
       "      <td>Indications: History of variceal bleeding, var...</td>\n",
       "    </tr>\n",
       "    <tr>\n",
       "      <th>3</th>\n",
       "      <td>106603292</td>\n",
       "      <td>Indications: Coffee ground emesis  Consent: Th...</td>\n",
       "    </tr>\n",
       "    <tr>\n",
       "      <th>4</th>\n",
       "      <td>119781173</td>\n",
       "      <td>Indications: Anemia, hemoglobin drop Consent: ...</td>\n",
       "    </tr>\n",
       "    <tr>\n",
       "      <th>...</th>\n",
       "      <td>...</td>\n",
       "      <td>...</td>\n",
       "    </tr>\n",
       "    <tr>\n",
       "      <th>810</th>\n",
       "      <td>209538596</td>\n",
       "      <td>Endoscopy ____________________________________...</td>\n",
       "    </tr>\n",
       "    <tr>\n",
       "      <th>811</th>\n",
       "      <td>209208920</td>\n",
       "      <td>Saint Raphael Campus Endoscopy _______________...</td>\n",
       "    </tr>\n",
       "    <tr>\n",
       "      <th>812</th>\n",
       "      <td>209239329</td>\n",
       "      <td>Saint Raphael Campus Endoscopy _______________...</td>\n",
       "    </tr>\n",
       "    <tr>\n",
       "      <th>813</th>\n",
       "      <td>209317812</td>\n",
       "      <td>Endoscopy ____________________________________...</td>\n",
       "    </tr>\n",
       "    <tr>\n",
       "      <th>814</th>\n",
       "      <td>209242242</td>\n",
       "      <td>Saint Raphael Campus Endoscopy _______________...</td>\n",
       "    </tr>\n",
       "  </tbody>\n",
       "</table>\n",
       "<p>784 rows × 2 columns</p>\n",
       "</div>"
      ],
      "text/plain": [
       "     PAT_ENC_CSN_ID                    ORDER_RESULT_COMPONENT_COMMENTS\n",
       "0         118591316  Indications: Hematemesis Consent: The benefits...\n",
       "1         114633873  Indications: Melena with symptomatic anemia  C...\n",
       "2         115596322  Indications: History of variceal bleeding, var...\n",
       "3         106603292  Indications: Coffee ground emesis  Consent: Th...\n",
       "4         119781173  Indications: Anemia, hemoglobin drop Consent: ...\n",
       "..              ...                                                ...\n",
       "810       209538596  Endoscopy ____________________________________...\n",
       "811       209208920  Saint Raphael Campus Endoscopy _______________...\n",
       "812       209239329  Saint Raphael Campus Endoscopy _______________...\n",
       "813       209317812  Endoscopy ____________________________________...\n",
       "814       209242242  Saint Raphael Campus Endoscopy _______________...\n",
       "\n",
       "[784 rows x 2 columns]"
      ]
     },
     "execution_count": 7,
     "metadata": {},
     "output_type": "execute_result"
    }
   ],
   "source": [
    "result[['PAT_ENC_CSN_ID', 'ORDER_RESULT_COMPONENT_COMMENTS']].drop_duplicates()"
   ]
  },
  {
   "cell_type": "code",
   "execution_count": 16,
   "id": "55b634df-b949-4f83-98d0-9c026484f94e",
   "metadata": {},
   "outputs": [],
   "source": [
    "result.index = result.PAT_ENC_CSN_ID"
   ]
  },
  {
   "cell_type": "code",
   "execution_count": 20,
   "id": "08ef7437-1eeb-49e5-9b44-169d6b913e23",
   "metadata": {},
   "outputs": [],
   "source": [
    "result.loc[ev.PAT_ENC_CSN_ID.drop_duplicates().values].drop_duplicates().to_csv('notes_to_label/external_validation_cohort_note_text.csv')"
   ]
  },
  {
   "cell_type": "code",
   "execution_count": 21,
   "id": "885440bc-7837-4551-a356-1e8ae2fff86c",
   "metadata": {},
   "outputs": [],
   "source": [
    "labeled = pd.read_csv('finished_labeling/external_results_labeled_notes.csv')"
   ]
  },
  {
   "cell_type": "code",
   "execution_count": 27,
   "id": "cd25c753-6dd2-48bd-908c-ae5c7bc94997",
   "metadata": {},
   "outputs": [],
   "source": [
    "labeled.drop_duplicates().to_csv('finished_labeling/external_results_labeled_notes.csv')"
   ]
  },
  {
   "cell_type": "code",
   "execution_count": 26,
   "id": "2cae365d-c3c6-457c-a233-6d977dbf1637",
   "metadata": {},
   "outputs": [],
   "source": [
    "labeled.index = labeled.PAT_ENC_CSN_ID"
   ]
  },
  {
   "cell_type": "code",
   "execution_count": 35,
   "id": "4889dd26-5cda-41a7-a19a-015cfe3513c5",
   "metadata": {},
   "outputs": [
    {
     "data": {
      "text/plain": [
       "Index([118591316, 114633873, 115596322, 106603292, 119781173, 120656210,\n",
       "       120656210, 121317783, 142696383, 125427434,\n",
       "       ...\n",
       "       209895870, 210009578, 209413803, 210782847, 210671058, 210842174,\n",
       "       210717396, 210903678, 211020897, 211190649],\n",
       "      dtype='int64', name='PAT_ENC_CSN_ID', length=141)"
      ]
     },
     "execution_count": 35,
     "metadata": {},
     "output_type": "execute_result"
    }
   ],
   "source": [
    "labeled.index"
   ]
  },
  {
   "cell_type": "code",
   "execution_count": 33,
   "id": "e1277daa-0c63-48a8-a523-4c7c22f4a033",
   "metadata": {},
   "outputs": [
    {
     "data": {
      "text/plain": [
       "\"Indications: 78yo s/p PEG placement in OR yesterday by surgical team, GI called as he was having significant GI bleeding Consent: The benefits, risks, and alternatives to the procedure were discussed and informed consent was obtained from the patient. H & P: Prior to sedation, pre-procedure update to the history and physical examination was performed. Preparation: Pulse, pulse oximetry and blood pressure were monitored throughout the procedure. Medications: MAC anesthesia. Procedure: The gastroscope was passed with ease through the mouth under direct visualization; it was extended to the 2nd portion of the duodenum. The scope was withdrawn and the mucosa was carefully examined. The views were good. The patient''s  toleration of the procedure was good. Retroflexion was performed in the cardia. Findings:   Large pool of fresh blood with clots seen in the stomach. After thorough suctioning, the exam was performed. The PEG tube site was identified. The external bumper sutures were removed and the PEG tube was pushed in to the stomach to examine  behind the inner bumper. There was active oozing seen from tract of the gastrostomy tube insertion beneath the inner bumper. Thorough irrigation, and suction was performed. The fibrin clot was removed to examine the oozing site. The inner bumper was  pulled close to the mucosa and with this pressure tamponade, the oozing stopped.  The rest of the gastric mucosa was normal No blood seen in the duodenum, and duodenum was normal up to 3rd part. Estimated Blood Loss: None. Post Procedure Diagnosis: Active bleeding from the mucosal surface of gastrostomy site, hemostasis achieved with pressure tamponade with bumper approximation Complications: There were no complications associated with the procedure. Impressions:Active bleeding from the mucosal surface of gastrostomy site, hemostasis achieved with pressure tamponade with bumper approximation Recommendations:  Please follow H/H and transfuse accordingly  Ideally would hold Plavix, however if his neuro status does not permit, and he re-bleeds, would strongly recommend to take her OR for surgical exploration. Procedure Codes: 43255 - EGD flexible; with control of bleeding Performed By:  The procedure was performed by Thiruvengadam Muniraj MD in the presence of K Veena Nandigam MD who was present from insertion to withdrawl. cc:\""
      ]
     },
     "execution_count": 33,
     "metadata": {},
     "output_type": "execute_result"
    }
   ],
   "source": [
    "result.loc[125427434]['ORDER_RESULT_COMPONENT_COMMENTS']"
   ]
  },
  {
   "cell_type": "code",
   "execution_count": 42,
   "id": "e0145849-c7a9-4dc8-a050-ae7343391dec",
   "metadata": {},
   "outputs": [
    {
     "data": {
      "text/html": [
       "<div>\n",
       "<style scoped>\n",
       "    .dataframe tbody tr th:only-of-type {\n",
       "        vertical-align: middle;\n",
       "    }\n",
       "\n",
       "    .dataframe tbody tr th {\n",
       "        vertical-align: top;\n",
       "    }\n",
       "\n",
       "    .dataframe thead th {\n",
       "        text-align: right;\n",
       "    }\n",
       "</style>\n",
       "<table border=\"1\" class=\"dataframe\">\n",
       "  <thead>\n",
       "    <tr style=\"text-align: right;\">\n",
       "      <th></th>\n",
       "      <th>PAT_ENC_CSN_ID</th>\n",
       "      <th>PAT_ID</th>\n",
       "      <th>PAT_ID.1</th>\n",
       "      <th>PAT_ENC_CSN_ID.1</th>\n",
       "      <th>ORDER_RESULT_COMPONENT_COMMENTS</th>\n",
       "    </tr>\n",
       "    <tr>\n",
       "      <th>PAT_ENC_CSN_ID</th>\n",
       "      <th></th>\n",
       "      <th></th>\n",
       "      <th></th>\n",
       "      <th></th>\n",
       "      <th></th>\n",
       "    </tr>\n",
       "  </thead>\n",
       "  <tbody>\n",
       "    <tr>\n",
       "      <th>255250809</th>\n",
       "      <td>255250809</td>\n",
       "      <td>Z2992388</td>\n",
       "      <td>Z2992388</td>\n",
       "      <td>255250809</td>\n",
       "      <td>Endoscopy ____________________________________...</td>\n",
       "    </tr>\n",
       "    <tr>\n",
       "      <th>255250809</th>\n",
       "      <td>255250809</td>\n",
       "      <td>Z2992388</td>\n",
       "      <td>Z2992388</td>\n",
       "      <td>255250809</td>\n",
       "      <td>Endoscopy ____________________________________...</td>\n",
       "    </tr>\n",
       "    <tr>\n",
       "      <th>255250809</th>\n",
       "      <td>255250809</td>\n",
       "      <td>Z2992388</td>\n",
       "      <td>Z2992388</td>\n",
       "      <td>255250809</td>\n",
       "      <td>Endoscopy ____________________________________...</td>\n",
       "    </tr>\n",
       "    <tr>\n",
       "      <th>255250809</th>\n",
       "      <td>255250809</td>\n",
       "      <td>Z2992388</td>\n",
       "      <td>Z2992388</td>\n",
       "      <td>255250809</td>\n",
       "      <td>Endoscopy ____________________________________...</td>\n",
       "    </tr>\n",
       "  </tbody>\n",
       "</table>\n",
       "</div>"
      ],
      "text/plain": [
       "                PAT_ENC_CSN_ID    PAT_ID  PAT_ID.1  PAT_ENC_CSN_ID.1  \\\n",
       "PAT_ENC_CSN_ID                                                         \n",
       "255250809            255250809  Z2992388  Z2992388         255250809   \n",
       "255250809            255250809  Z2992388  Z2992388         255250809   \n",
       "255250809            255250809  Z2992388  Z2992388         255250809   \n",
       "255250809            255250809  Z2992388  Z2992388         255250809   \n",
       "\n",
       "                                  ORDER_RESULT_COMPONENT_COMMENTS  \n",
       "PAT_ENC_CSN_ID                                                     \n",
       "255250809       Endoscopy ____________________________________...  \n",
       "255250809       Endoscopy ____________________________________...  \n",
       "255250809       Endoscopy ____________________________________...  \n",
       "255250809       Endoscopy ____________________________________...  "
      ]
     },
     "execution_count": 42,
     "metadata": {},
     "output_type": "execute_result"
    }
   ],
   "source": [
    "result.loc[255250809]"
   ]
  },
  {
   "cell_type": "code",
   "execution_count": 52,
   "id": "29bd12b8-6028-45e6-be78-1b8528e3cfd1",
   "metadata": {},
   "outputs": [
    {
     "data": {
      "text/html": [
       "<div>\n",
       "<style scoped>\n",
       "    .dataframe tbody tr th:only-of-type {\n",
       "        vertical-align: middle;\n",
       "    }\n",
       "\n",
       "    .dataframe tbody tr th {\n",
       "        vertical-align: top;\n",
       "    }\n",
       "\n",
       "    .dataframe thead th {\n",
       "        text-align: right;\n",
       "    }\n",
       "</style>\n",
       "<table border=\"1\" class=\"dataframe\">\n",
       "  <thead>\n",
       "    <tr style=\"text-align: right;\">\n",
       "      <th></th>\n",
       "      <th>PAT_ENC_CSN_ID</th>\n",
       "      <th>ORDER_RESULT_COMPONENT_COMMENTS</th>\n",
       "    </tr>\n",
       "    <tr>\n",
       "      <th>PAT_ENC_CSN_ID</th>\n",
       "      <th></th>\n",
       "      <th></th>\n",
       "    </tr>\n",
       "  </thead>\n",
       "  <tbody>\n",
       "    <tr>\n",
       "      <th>118591316</th>\n",
       "      <td>118591316</td>\n",
       "      <td>Indications: Hematemesis Consent: The benefits...</td>\n",
       "    </tr>\n",
       "    <tr>\n",
       "      <th>114633873</th>\n",
       "      <td>114633873</td>\n",
       "      <td>Indications: Melena with symptomatic anemia  C...</td>\n",
       "    </tr>\n",
       "    <tr>\n",
       "      <th>115596322</th>\n",
       "      <td>115596322</td>\n",
       "      <td>Indications: History of variceal bleeding, var...</td>\n",
       "    </tr>\n",
       "    <tr>\n",
       "      <th>106603292</th>\n",
       "      <td>106603292</td>\n",
       "      <td>Indications: Coffee ground emesis  Consent: Th...</td>\n",
       "    </tr>\n",
       "    <tr>\n",
       "      <th>119781173</th>\n",
       "      <td>119781173</td>\n",
       "      <td>Indications: Anemia, hemoglobin drop Consent: ...</td>\n",
       "    </tr>\n",
       "    <tr>\n",
       "      <th>...</th>\n",
       "      <td>...</td>\n",
       "      <td>...</td>\n",
       "    </tr>\n",
       "    <tr>\n",
       "      <th>209538596</th>\n",
       "      <td>209538596</td>\n",
       "      <td>Endoscopy ____________________________________...</td>\n",
       "    </tr>\n",
       "    <tr>\n",
       "      <th>209208920</th>\n",
       "      <td>209208920</td>\n",
       "      <td>Saint Raphael Campus Endoscopy _______________...</td>\n",
       "    </tr>\n",
       "    <tr>\n",
       "      <th>209239329</th>\n",
       "      <td>209239329</td>\n",
       "      <td>Saint Raphael Campus Endoscopy _______________...</td>\n",
       "    </tr>\n",
       "    <tr>\n",
       "      <th>209317812</th>\n",
       "      <td>209317812</td>\n",
       "      <td>Endoscopy ____________________________________...</td>\n",
       "    </tr>\n",
       "    <tr>\n",
       "      <th>209242242</th>\n",
       "      <td>209242242</td>\n",
       "      <td>Saint Raphael Campus Endoscopy _______________...</td>\n",
       "    </tr>\n",
       "  </tbody>\n",
       "</table>\n",
       "<p>784 rows × 2 columns</p>\n",
       "</div>"
      ],
      "text/plain": [
       "                PAT_ENC_CSN_ID  \\\n",
       "PAT_ENC_CSN_ID                   \n",
       "118591316            118591316   \n",
       "114633873            114633873   \n",
       "115596322            115596322   \n",
       "106603292            106603292   \n",
       "119781173            119781173   \n",
       "...                        ...   \n",
       "209538596            209538596   \n",
       "209208920            209208920   \n",
       "209239329            209239329   \n",
       "209317812            209317812   \n",
       "209242242            209242242   \n",
       "\n",
       "                                  ORDER_RESULT_COMPONENT_COMMENTS  \n",
       "PAT_ENC_CSN_ID                                                     \n",
       "118591316       Indications: Hematemesis Consent: The benefits...  \n",
       "114633873       Indications: Melena with symptomatic anemia  C...  \n",
       "115596322       Indications: History of variceal bleeding, var...  \n",
       "106603292       Indications: Coffee ground emesis  Consent: Th...  \n",
       "119781173       Indications: Anemia, hemoglobin drop Consent: ...  \n",
       "...                                                           ...  \n",
       "209538596       Endoscopy ____________________________________...  \n",
       "209208920       Saint Raphael Campus Endoscopy _______________...  \n",
       "209239329       Saint Raphael Campus Endoscopy _______________...  \n",
       "209317812       Endoscopy ____________________________________...  \n",
       "209242242       Saint Raphael Campus Endoscopy _______________...  \n",
       "\n",
       "[784 rows x 2 columns]"
      ]
     },
     "execution_count": 52,
     "metadata": {},
     "output_type": "execute_result"
    }
   ],
   "source": [
    "result[['PAT_ENC_CSN_ID','ORDER_RESULT_COMPONENT_COMMENTS',]].drop_duplicates()"
   ]
  },
  {
   "cell_type": "code",
   "execution_count": 60,
   "id": "c7c6aa78-79aa-4633-9226-94d711de5e21",
   "metadata": {},
   "outputs": [
    {
     "data": {
      "text/plain": [
       "array([4, 4, 4, 4, 4, 4, 4, 4, 4, 4, 4, 4, 4, 4, 4, 2, 2, 2, 2, 2, 2])"
      ]
     },
     "execution_count": 60,
     "metadata": {},
     "output_type": "execute_result"
    }
   ],
   "source": []
  },
  {
   "cell_type": "code",
   "execution_count": 67,
   "id": "fa53cd6c-dba7-405d-9c00-3fee1776ed36",
   "metadata": {},
   "outputs": [],
   "source": [
    "notes_to_label = result.drop(result.index.value_counts().head(21).index)"
   ]
  },
  {
   "cell_type": "code",
   "execution_count": 68,
   "id": "df0e289c-c736-4fd3-b216-8c80e1f8bd2e",
   "metadata": {},
   "outputs": [],
   "source": [
    "labeled_notes_1_chunk = pd.read_csv('../work/finished_labeling/external_results_labeled_notes_1_chunk.csv')"
   ]
  },
  {
   "cell_type": "code",
   "execution_count": 69,
   "id": "352feadb-c7ba-49a7-92cf-0fa7e335fede",
   "metadata": {},
   "outputs": [],
   "source": [
    "labeled_notes_2_chunk = pd.read_csv('../work/finished_labeling/external_results_labeled_notes.csv')"
   ]
  },
  {
   "cell_type": "code",
   "execution_count": null,
   "id": "5edfb658-62db-46da-a708-7098c39d883b",
   "metadata": {},
   "outputs": [],
   "source": [
    "labeled_notes_2_chunk.index = labeled_notes_2_chunk.PAT_ENC_CSN_ID"
   ]
  },
  {
   "cell_type": "code",
   "execution_count": null,
   "id": "525a908f-e514-4877-9480-2d6b77106c33",
   "metadata": {},
   "outputs": [],
   "source": []
  },
  {
   "cell_type": "code",
   "execution_count": 80,
   "id": "597738a2-5bc0-4e50-9a48-01ff970292f1",
   "metadata": {},
   "outputs": [
    {
     "data": {
      "text/plain": [
       "Index([212425139, 207750395, 224732495, 232728880, 255250809, 251667107,\n",
       "       209413803, 197990946, 209170927, 215147239, 281653435, 218762499,\n",
       "       291330537, 281502291, 221542116, 233848593, 254447634, 233272952,\n",
       "       148597949, 120656210, 138911102],\n",
       "      dtype='int64', name='PAT_ENC_CSN_ID')"
      ]
     },
     "execution_count": 80,
     "metadata": {},
     "output_type": "execute_result"
    }
   ],
   "source": [
    "result.index.value_counts().head(21).index"
   ]
  },
  {
   "cell_type": "code",
   "execution_count": 85,
   "id": "70ba457a-2ab9-462e-93f0-b9cc3e58aa21",
   "metadata": {},
   "outputs": [],
   "source": [
    "already_labeled = []\n",
    "for i in notes_to_label.index:\n",
    "    if i in pd.concat([labeled_notes_1_chunk, labeled_notes_2_chunk]).index.values:\n",
    "        already_labeled.append(i)\n",
    "        "
   ]
  },
  {
   "cell_type": "code",
   "execution_count": 89,
   "id": "8843cbc1-9e30-412d-9dd0-c773ef92858a",
   "metadata": {},
   "outputs": [],
   "source": [
    "notes_to_label.drop(already_labeled).to_csv('notes_to_label/external_validation_cohort_note_text.csv')"
   ]
  },
  {
   "cell_type": "code",
   "execution_count": 93,
   "id": "4da9e985-8e21-4206-98b2-0e3fa92325ca",
   "metadata": {},
   "outputs": [],
   "source": [
    "pd.concat([labeled_notes_1_chunk, labeled_notes_2_chunk]).to_csv('../work/finished_labeling/labeled_notes_1_chunk.csv' )"
   ]
  },
  {
   "cell_type": "code",
   "execution_count": 92,
   "id": "7d422f4d-80f6-4a19-9ef6-e370344c1a84",
   "metadata": {},
   "outputs": [
    {
     "data": {
      "text/plain": [
       "'/home/jovyan/work'"
      ]
     },
     "execution_count": 92,
     "metadata": {},
     "output_type": "execute_result"
    }
   ],
   "source": [
    "pwd"
   ]
  },
  {
   "cell_type": "code",
   "execution_count": 94,
   "id": "ad018c69-a38f-45e1-b901-358ed7bde55a",
   "metadata": {},
   "outputs": [
    {
     "data": {
      "text/html": [
       "<div>\n",
       "<style scoped>\n",
       "    .dataframe tbody tr th:only-of-type {\n",
       "        vertical-align: middle;\n",
       "    }\n",
       "\n",
       "    .dataframe tbody tr th {\n",
       "        vertical-align: top;\n",
       "    }\n",
       "\n",
       "    .dataframe thead th {\n",
       "        text-align: right;\n",
       "    }\n",
       "</style>\n",
       "<table border=\"1\" class=\"dataframe\">\n",
       "  <thead>\n",
       "    <tr style=\"text-align: right;\">\n",
       "      <th></th>\n",
       "      <th>PAT_ENC_CSN_ID</th>\n",
       "      <th>PAT_ID</th>\n",
       "      <th>PAT_ID.1</th>\n",
       "      <th>PAT_ENC_CSN_ID.1</th>\n",
       "      <th>ORDER_RESULT_COMPONENT_COMMENTS</th>\n",
       "    </tr>\n",
       "    <tr>\n",
       "      <th>PAT_ENC_CSN_ID</th>\n",
       "      <th></th>\n",
       "      <th></th>\n",
       "      <th></th>\n",
       "      <th></th>\n",
       "      <th></th>\n",
       "    </tr>\n",
       "  </thead>\n",
       "  <tbody>\n",
       "    <tr>\n",
       "      <th>255651385</th>\n",
       "      <td>255651385</td>\n",
       "      <td>Z5904890</td>\n",
       "      <td>Z5904890</td>\n",
       "      <td>255651385</td>\n",
       "      <td>Saint Raphael Campus Endoscopy _______________...</td>\n",
       "    </tr>\n",
       "    <tr>\n",
       "      <th>257396093</th>\n",
       "      <td>257396093</td>\n",
       "      <td>Z4450906</td>\n",
       "      <td>Z4450906</td>\n",
       "      <td>257396093</td>\n",
       "      <td>Endoscopy ____________________________________...</td>\n",
       "    </tr>\n",
       "    <tr>\n",
       "      <th>256183104</th>\n",
       "      <td>256183104</td>\n",
       "      <td>Z1363499</td>\n",
       "      <td>Z1363499</td>\n",
       "      <td>256183104</td>\n",
       "      <td>Endoscopy ____________________________________...</td>\n",
       "    </tr>\n",
       "    <tr>\n",
       "      <th>257690286</th>\n",
       "      <td>257690286</td>\n",
       "      <td>Z1295218</td>\n",
       "      <td>Z1295218</td>\n",
       "      <td>257690286</td>\n",
       "      <td>Endoscopy ____________________________________...</td>\n",
       "    </tr>\n",
       "    <tr>\n",
       "      <th>258060763</th>\n",
       "      <td>258060763</td>\n",
       "      <td>Z3088171</td>\n",
       "      <td>Z3088171</td>\n",
       "      <td>258060763</td>\n",
       "      <td>Endoscopy ____________________________________...</td>\n",
       "    </tr>\n",
       "    <tr>\n",
       "      <th>...</th>\n",
       "      <td>...</td>\n",
       "      <td>...</td>\n",
       "      <td>...</td>\n",
       "      <td>...</td>\n",
       "      <td>...</td>\n",
       "    </tr>\n",
       "    <tr>\n",
       "      <th>209538596</th>\n",
       "      <td>209538596</td>\n",
       "      <td>Z4595108</td>\n",
       "      <td>Z4595108</td>\n",
       "      <td>209538596</td>\n",
       "      <td>Endoscopy ____________________________________...</td>\n",
       "    </tr>\n",
       "    <tr>\n",
       "      <th>209208920</th>\n",
       "      <td>209208920</td>\n",
       "      <td>Z627700</td>\n",
       "      <td>Z627700</td>\n",
       "      <td>209208920</td>\n",
       "      <td>Saint Raphael Campus Endoscopy _______________...</td>\n",
       "    </tr>\n",
       "    <tr>\n",
       "      <th>209239329</th>\n",
       "      <td>209239329</td>\n",
       "      <td>Z4565432</td>\n",
       "      <td>Z4565432</td>\n",
       "      <td>209239329</td>\n",
       "      <td>Saint Raphael Campus Endoscopy _______________...</td>\n",
       "    </tr>\n",
       "    <tr>\n",
       "      <th>209317812</th>\n",
       "      <td>209317812</td>\n",
       "      <td>Z6262083</td>\n",
       "      <td>Z6262083</td>\n",
       "      <td>209317812</td>\n",
       "      <td>Endoscopy ____________________________________...</td>\n",
       "    </tr>\n",
       "    <tr>\n",
       "      <th>209242242</th>\n",
       "      <td>209242242</td>\n",
       "      <td>Z1212496</td>\n",
       "      <td>Z1212496</td>\n",
       "      <td>209242242</td>\n",
       "      <td>Saint Raphael Campus Endoscopy _______________...</td>\n",
       "    </tr>\n",
       "  </tbody>\n",
       "</table>\n",
       "<p>328 rows × 5 columns</p>\n",
       "</div>"
      ],
      "text/plain": [
       "                PAT_ENC_CSN_ID    PAT_ID  PAT_ID.1  PAT_ENC_CSN_ID.1  \\\n",
       "PAT_ENC_CSN_ID                                                         \n",
       "255651385            255651385  Z5904890  Z5904890         255651385   \n",
       "257396093            257396093  Z4450906  Z4450906         257396093   \n",
       "256183104            256183104  Z1363499  Z1363499         256183104   \n",
       "257690286            257690286  Z1295218  Z1295218         257690286   \n",
       "258060763            258060763  Z3088171  Z3088171         258060763   \n",
       "...                        ...       ...       ...               ...   \n",
       "209538596            209538596  Z4595108  Z4595108         209538596   \n",
       "209208920            209208920   Z627700   Z627700         209208920   \n",
       "209239329            209239329  Z4565432  Z4565432         209239329   \n",
       "209317812            209317812  Z6262083  Z6262083         209317812   \n",
       "209242242            209242242  Z1212496  Z1212496         209242242   \n",
       "\n",
       "                                  ORDER_RESULT_COMPONENT_COMMENTS  \n",
       "PAT_ENC_CSN_ID                                                     \n",
       "255651385       Saint Raphael Campus Endoscopy _______________...  \n",
       "257396093       Endoscopy ____________________________________...  \n",
       "256183104       Endoscopy ____________________________________...  \n",
       "257690286       Endoscopy ____________________________________...  \n",
       "258060763       Endoscopy ____________________________________...  \n",
       "...                                                           ...  \n",
       "209538596       Endoscopy ____________________________________...  \n",
       "209208920       Saint Raphael Campus Endoscopy _______________...  \n",
       "209239329       Saint Raphael Campus Endoscopy _______________...  \n",
       "209317812       Endoscopy ____________________________________...  \n",
       "209242242       Saint Raphael Campus Endoscopy _______________...  \n",
       "\n",
       "[328 rows x 5 columns]"
      ]
     },
     "execution_count": 94,
     "metadata": {},
     "output_type": "execute_result"
    }
   ],
   "source": [
    "notes_to_label.drop(already_labeled).reset"
   ]
  },
  {
   "cell_type": "code",
   "execution_count": null,
   "id": "2b011300-bb92-4678-8fd2-3d0b2884161f",
   "metadata": {},
   "outputs": [],
   "source": []
  }
 ],
 "metadata": {
  "kernelspec": {
   "display_name": "Python 3 (ipykernel)",
   "language": "python",
   "name": "python3"
  },
  "language_info": {
   "codemirror_mode": {
    "name": "ipython",
    "version": 3
   },
   "file_extension": ".py",
   "mimetype": "text/x-python",
   "name": "python",
   "nbconvert_exporter": "python",
   "pygments_lexer": "ipython3",
   "version": "3.11.6"
  }
 },
 "nbformat": 4,
 "nbformat_minor": 5
}
